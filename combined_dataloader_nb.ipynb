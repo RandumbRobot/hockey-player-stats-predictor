{
 "cells": [
  {
   "cell_type": "code",
   "execution_count": 2,
   "metadata": {},
   "outputs": [],
   "source": [
    "from datasets.datasets import *"
   ]
  },
  {
   "cell_type": "code",
   "execution_count": null,
   "metadata": {},
   "outputs": [],
   "source": [
    "NL = [5]\n",
    "combined_dataset = get_combined_dataset(NL=NL)"
   ]
  },
  {
   "cell_type": "code",
   "execution_count": 3,
   "metadata": {},
   "outputs": [
    {
     "name": "stdout",
     "output_type": "stream",
     "text": [
      "reading file\n",
      "Loaded 13793 rows.\n",
      "Normalizing features\n",
      "['GP', 'G', 'A', 'PTS', 'PS', 'EV', 'PP', 'S']\n",
      "Loading player data\n",
      "creating dataset structure\n",
      "creating player dict\n"
     ]
    }
   ],
   "source": [
    "# PLAYER DATASET\n",
    "#player_dataset = get_player_dataset(NL=NL)"
   ]
  },
  {
   "cell_type": "code",
   "execution_count": 4,
   "metadata": {},
   "outputs": [
    {
     "name": "stdout",
     "output_type": "stream",
     "text": [
      "Targets\n",
      "['W%', 'L%', 'S']\n",
      "Normalizing features\n",
      "[]\n",
      "All features\n",
      "['W%', 'L%', 'GF/G', 'GA/G', 'PIM/G', 'oPIM/G', 'S', 'S%', 'SV%']\n",
      "Loading player data\n",
      "creating dataset structure\n"
     ]
    }
   ],
   "source": [
    "# TEAM DATASET\n",
    "#team_dataset = get_team_dataset(NL=[1]) # Only need one season (ensures all teams exists in dataset)"
   ]
  },
  {
   "cell_type": "code",
   "execution_count": 6,
   "metadata": {},
   "outputs": [],
   "source": [
    "\n",
    "team_name_dict = {\n",
    "    'AFM': 'Atlanta Flames',\n",
    "    'ANA': 'Mighty Ducks of Anaheim/Anaheim Ducks',\n",
    "    'ARI' : 'Arizona Coyotes',\n",
    "    'ATL' : 'Atlanta Thrashers',\n",
    "    'BOS' : 'Boston Bruins',\n",
    "    'BRK' : 'Brooklyn Americans',\n",
    "    'BUF' : 'Buffalo Sabres',\n",
    "    'CAR' : 'Carolina Hurricanes',\n",
    "    'CBJ' : 'Columbus Blue Jackets',\n",
    "    'CGS' : 'Bay Area Seals/California Golden Seals',\n",
    "    'CGY' : 'Calgary Flames',\n",
    "    'CHI' : 'Chicago Black Hawks/Blackhawks',\n",
    "    'CLE' : 'Cleveland Barons',\n",
    "    'CLR' : 'Colorado Rockies',\n",
    "    'COL' : 'Colorado Avalanche',\n",
    "    'DAL' : 'Dallas Stars',\n",
    "    'DCG' : 'Detroit Cougars',\n",
    "    'DET' : 'Detroit Red Wings',\n",
    "    'DFL' : 'Detroit Falcons',\n",
    "    'EDM' : 'Edmonton Oilers',\n",
    "    'FLA' : 'Florida Panthers',\n",
    "    'HAM' : 'Hamilton Tigers',\n",
    "    'HFD' : 'Hartford Whalers',\n",
    "    'KCS' : 'Kansas City Scouts',\n",
    "    'LAK' : 'Los Angeles Kings',\n",
    "    'MIN' : 'Minnesota Wild',\n",
    "    'MMR' : 'Montreal Maroons',\n",
    "    'MNS' : 'Minnesota North Stars',\n",
    "    'MTL' : 'Montreal Canadiens',\n",
    "    'MWN' : 'Montreal Wanderers',\n",
    "    'NJD' : 'New Jersey Devils',\n",
    "    'NSH' : 'Nashville Predators',\n",
    "    'NYA' : 'New York Americans',\n",
    "    'NYI' : 'New York Islanders',\n",
    "    'NYR' : 'New York Rangers',\n",
    "    'OAK' : 'California/Oakland Seals',\n",
    "    'OTT' : 'Ottawa Senators',\n",
    "    'PHI' : 'Philadelphia Flyers',\n",
    "    'PHX' : 'Phoenix Coyotes',\n",
    "    'PIR' : 'Pittsburgh Pirates',\n",
    "    'PIT' : 'Pittsburgh Penguins',\n",
    "    'QBD' : 'Quebec Bulldogs',\n",
    "    'QUA' : 'Philadelphia Quakers',\n",
    "    'QUE' : 'Quebec Nordiques',\n",
    "    'SEA' : 'Seattle Kraken',\n",
    "    'SEN' : 'Ottawa Senators (original)',\n",
    "    'SLE' : 'St. Louis Eagles',\n",
    "    'SJS' : 'San Jose Sharks',\n",
    "    'STL' : 'St. Louis Blues',\n",
    "    'TAN' : 'Toronto Hockey Club/Toronto Arenas',\n",
    "    'TBL' : 'Tampa Bay Lightning',\n",
    "    'TOR' : 'Toronto Maple Leafs',\n",
    "    'TSP' : 'Toronto St. Patricks',\n",
    "    'VAN' : 'Vancouver Canucks',\n",
    "    'VGK' : 'Vegas Golden Knights',\n",
    "    'WIN' : 'Winnipeg Jets (original)',\n",
    "    'WPG' : 'Winnipeg Jets',\n",
    "    'WSH' : 'Washington Capitals'\n",
    "}\n",
    "\n",
    "\n",
    "# Append team features to player samples\n",
    "player_df = player_dataset.alldata\n",
    "team_df = team_dataset.alldata\n",
    "\n",
    "samples_to_drop = []\n",
    "for player in player_dataset.data:\n",
    "    for N in player_dataset.data[player]:\n",
    "\n",
    "        # For each group \n",
    "        for year in player_dataset.data[player][N]:\n",
    "\n",
    "            # Find the team names for that group\n",
    "            player_data = player_df[player_df['Player'] == player]\n",
    "            player_data_year = player_data.loc[player_data['Season'].isin([season for season in range(year, year+N)])]\n",
    "            team_names = player_data_year['Tm'].values\n",
    "\n",
    "            # Get the team stats for each season\n",
    "            drop = 0\n",
    "            features = []\n",
    "            for season,team in enumerate(team_names):\n",
    "\n",
    "                if team not in team_name_dict:\n",
    "                    # drop sample and clean up\n",
    "                    drop = 1\n",
    "                    samples_to_drop.append((player, N, year))\n",
    "                    break\n",
    "\n",
    "                team_name = team_name_dict[team]\n",
    "\n",
    "                # Get normalized team data\n",
    "                team_data = team_dataset.all_data_normalized[team_dataset.all_data_normalized['team name'] == team_name]\n",
    "                team_data_year = team_data[team_data['Season'] == year+season]\n",
    "\n",
    "                if team_data_year.empty:\n",
    "                    # drop sample and clean up\n",
    "                    drop = 1\n",
    "                    samples_to_drop.append((player, N, year))\n",
    "                    break\n",
    "                \n",
    "                features.append(torch.tensor(team_data_year.drop(columns=['team name', 'Season'],axis=1).values, dtype=torch.float32))\n",
    "\n",
    "            if drop == 1:\n",
    "                continue\n",
    "\n",
    "            # Append the team stats to the player stats\n",
    "            try:\n",
    "                team_features = torch.stack(features).reshape((len(features), len(features[0][0]))) #features\n",
    "            except:\n",
    "                print(features)\n",
    "                exit(0)\n",
    "            player_features = player_dataset.data[player][N][year][0]\n",
    "            new_features = torch.hstack((player_features, team_features))\n",
    "            player_dataset.data[player][N][year] = (new_features , player_dataset.data[player][N][year])\n",
    "\n",
    "# cleanup dataset\n",
    "for (player, N, year) in samples_to_drop:\n",
    "    player_dataset.data[player][N].pop(year, None)\n",
    "    if len(player_dataset.data[player][N]) == 0: # remove N if empty\n",
    "        player_dataset.data[player].pop(N, None)\n",
    "        if len(player_dataset.data[player]) == 0: # remove player if empty\n",
    "            player_dataset.data.pop(player, None)"
   ]
  }
 ],
 "metadata": {
  "kernelspec": {
   "display_name": "Python 3",
   "language": "python",
   "name": "python3"
  },
  "language_info": {
   "codemirror_mode": {
    "name": "ipython",
    "version": 3
   },
   "file_extension": ".py",
   "mimetype": "text/x-python",
   "name": "python",
   "nbconvert_exporter": "python",
   "pygments_lexer": "ipython3",
   "version": "3.10.0"
  }
 },
 "nbformat": 4,
 "nbformat_minor": 2
}
