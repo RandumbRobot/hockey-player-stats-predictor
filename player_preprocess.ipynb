{
  "cells": [
    {
      "cell_type": "code",
      "execution_count": 3,
      "metadata": {
        "id": "OtnP2CFpgkVq"
      },
      "outputs": [
        {
          "name": "stdout",
          "output_type": "stream",
          "text": [
            "File saved successfully at ./Data/player/processed/player_data.xlsx\n"
          ]
        }
      ],
      "source": [
        "import pandas as pd\n",
        "\n",
        "output_path = './Data/player/processed/player_data.xlsx'\n",
        "\n",
        "# List comprehension to create a list of file paths for the years 1990 to 2024, excluding 2005.\n",
        "files = [f'./Data/player/raw/{year}.xlsx' for year in range(1990, 2025) if year != 2005]\n",
        "\n",
        "common_columns = None\n",
        "\n",
        "# First loop to determine the common columns\n",
        "for file in files:\n",
        "    temp_df = pd.read_excel(file, header=1)\n",
        "    if common_columns is None:\n",
        "        common_columns = temp_df.columns.tolist()\n",
        "    else:\n",
        "        common_columns = [col for col in common_columns if col in temp_df.columns]\n",
        "\n",
        "# Remove 'Rk' from common_columns since we're using the index as 'Rk'\n",
        "common_columns.remove('Rk')\n",
        "\n",
        "dfs = []\n",
        "\n",
        "# Second loop to process each file and add it to the dfs list\n",
        "for file in files:\n",
        "    year = file.split('/')[-1].split('.')[0]  # Extract the year from the file name\n",
        "    temp_df = pd.read_excel(file, header=1, usecols=common_columns)\n",
        "    temp_df['Season'] = year  # Add the \"Season\" column with the year value\n",
        "    temp_df.index += 1  # Ensure the index starts at 1 to match the 'Rk' values\n",
        "    temp_df.reset_index(inplace=True)  # Reset the index so it becomes a column\n",
        "    temp_df.rename(columns={'index': 'Rk'}, inplace=True)  # Rename the new column to 'Rk'\n",
        "    dfs.append(temp_df)\n",
        "\n",
        "# Concatenate all dataframes in the dfs list\n",
        "df = pd.concat(dfs, ignore_index=True)\n",
        "\n",
        "# Save the concatenated dataframe to an Excel file\n",
        "df.to_excel(output_path, index=False)\n",
        "\n",
        "print(f'File saved successfully at {output_path}')\n"
      ]
    }
  ],
  "metadata": {
    "colab": {
      "provenance": []
    },
    "kernelspec": {
      "display_name": "Python 3",
      "name": "python3"
    },
    "language_info": {
      "codemirror_mode": {
        "name": "ipython",
        "version": 3
      },
      "file_extension": ".py",
      "mimetype": "text/x-python",
      "name": "python",
      "nbconvert_exporter": "python",
      "pygments_lexer": "ipython3",
      "version": "3.10.0"
    }
  },
  "nbformat": 4,
  "nbformat_minor": 0
}
