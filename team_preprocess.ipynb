{
  "cells": [
    {
      "cell_type": "markdown",
      "metadata": {
        "id": "9X6QQAJMyU1m"
      },
      "source": [
        "Upload all the excel files into the collab and run the code below"
      ]
    },
    {
      "cell_type": "code",
      "execution_count": 3,
      "metadata": {
        "colab": {
          "base_uri": "https://localhost:8080/"
        },
        "id": "Ctt-FrhdyP1z",
        "outputId": "041adfc8-9398-4d7a-f2bd-de6a5b6f63a8"
      },
      "outputs": [
        {
          "name": "stdout",
          "output_type": "stream",
          "text": [
            "File saved successfully at ./Data/team/processed/team_data.xlsx\n"
          ]
        }
      ],
      "source": [
        "import pandas as pd\n",
        "\n",
        "output_path = './Data/team/processed/team_data.xlsx'\n",
        "\n",
        "files = [f'./Data/team/raw/{year}.xlsx' for year in range(1990, 2025) if year != 2005]\n",
        "\n",
        "common_columns = None\n",
        "\n",
        "\n",
        "for file in files:\n",
        "    temp_df = pd.read_excel(file, header=1)\n",
        "    if common_columns is None:\n",
        "        common_columns = temp_df.columns.tolist()\n",
        "    else:\n",
        "        common_columns = [col for col in common_columns if col in temp_df.columns]\n",
        "\n",
        "\n",
        "dfs = []\n",
        "\n",
        "\n",
        "for file in files:\n",
        "    temp_df = pd.read_excel(file, header=1, usecols=common_columns)\n",
        "    temp_df = temp_df[~temp_df.apply(lambda row: 'League Average' in row.values, axis=1)]\n",
        "    dfs.append(temp_df)\n",
        "\n",
        "\n",
        "df = pd.concat(dfs, ignore_index=True)\n",
        "df = df.rename(columns={df.columns[1]: 'team name'})\n",
        "df.to_excel(output_path, index=False)\n",
        "\n",
        "print(f'File saved successfully at {output_path}')"
      ]
    }
  ],
  "metadata": {
    "colab": {
      "provenance": []
    },
    "kernelspec": {
      "display_name": "Python 3",
      "name": "python3"
    },
    "language_info": {
      "codemirror_mode": {
        "name": "ipython",
        "version": 3
      },
      "file_extension": ".py",
      "mimetype": "text/x-python",
      "name": "python",
      "nbconvert_exporter": "python",
      "pygments_lexer": "ipython3",
      "version": "3.10.0"
    }
  },
  "nbformat": 4,
  "nbformat_minor": 0
}
