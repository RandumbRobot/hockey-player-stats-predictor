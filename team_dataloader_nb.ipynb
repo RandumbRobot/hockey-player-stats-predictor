{
 "cells": [
  {
   "cell_type": "markdown",
   "metadata": {},
   "source": [
    "# Team Dataloader\n",
    "\n",
    "This script provides the dataloader for the teams"
   ]
  },
  {
   "cell_type": "code",
   "execution_count": 1,
   "metadata": {},
   "outputs": [],
   "source": [
    "# Imports\n",
    "import pandas as pd\n",
    "from torch import nn\n",
    "from torch.utils.data import DataLoader, Dataset"
   ]
  },
  {
   "cell_type": "code",
   "execution_count": 2,
   "metadata": {},
   "outputs": [],
   "source": [
    "# Data Paths\n",
    "file = './Data/team/processed/team_data.xlsx'"
   ]
  },
  {
   "cell_type": "code",
   "execution_count": 3,
   "metadata": {},
   "outputs": [],
   "source": [
    "# GET DESIRED FIELDS\n",
    "# Season \n",
    "# Name\n",
    "# Points Percentage : PTS%\n",
    "# Win Percentage : Win%\n",
    "# Goals For Per Game : GF/G\n",
    "# Goals Against Per Game : GA/G\n",
    "cols = ['team name', 'Season', 'PTS%', 'GF/G', 'GA/G']\n",
    "df = pd.read_excel(file, header=0, usecols=cols)\n",
    "\n",
    "# Remove the asterix from the team names\n",
    "df = df.replace('\\*', '', regex=True)\n"
   ]
  },
  {
   "cell_type": "markdown",
   "metadata": {},
   "source": [
    "# Dataset Class\n",
    "\n",
    "This is the custom dataset class used to represent team data"
   ]
  },
  {
   "cell_type": "code",
   "execution_count": 5,
   "metadata": {},
   "outputs": [],
   "source": [
    "class TeamDataset(Dataset):\n",
    "    def __init__(self, df, N=5, start_season=1990, stop_season=2023):\n",
    "        \"\"\"\n",
    "        Teams dataset\n",
    "\n",
    "        :param file: path to preprocessed teams dataset\n",
    "        :param N: number of consecutive seasons to load per group. Note that the associated label will be the season N+1\n",
    "        :return: dataset\n",
    "        \"\"\"\n",
    "\n",
    "        self.file=file\n",
    "        self.N=N\n",
    "        self.start_season=start_season\n",
    "        self.stop_season=stop_season\n",
    "\n",
    "        # Save the default full data\n",
    "        self.alldata = df\n",
    "\n",
    "        # Get all the possible groups\n",
    "        self.data = self.load_team_data(self.alldata, self.start_season, self.stop_season, self.N)\n",
    "\n",
    "\n",
    "    def __len__(self):\n",
    "        return len(self.data)\n",
    "    \n",
    "    def __getitem__(self, idx):\n",
    "        # self.data has [features,target] at each ID\n",
    "        data_element = self.data[idx]\n",
    "        return data_element[0], data_element[1]\n",
    "    \n",
    "    def set_seasons_per_group(self, N):\n",
    "        \"\"\"\n",
    "        Set the number of consecutive seasons (N) to load per group.\n",
    "        This function also alters self.data by converting the original data to the new N\n",
    "\n",
    "        :param N: number of consecutive seasons to load per group. Note that the associated label will be the season N+1\n",
    "        \"\"\"\n",
    "        self.N = N\n",
    "\n",
    "        # Get all the possible groups\n",
    "        self.data = self.load_team_data(self.alldata, self.start_season, self.stop_season, self.N)\n",
    "\n",
    "\n",
    "    def load_team_data(self, df: pd.DataFrame, start_season: int, stop_season: int, N: int):\n",
    "        \"\"\"\n",
    "        load_team_data: loads a dictionary of team data by grouping multiple groups of \n",
    "        N seasons together for a range of seasons. \n",
    "        NOTE: only teams that appear for all seasons for a given group will be added\n",
    "\n",
    "        :param data: NHL team dataset for all years\n",
    "        :param start_seasons: First season to consider (inclusive).\n",
    "        :param end_seasons: Last season to consider (inclusive).\n",
    "        :param N: Number of seasons per group\n",
    "        :return: returns a data structure with the following format (for num_seasons=N=5)\n",
    "            V2:\n",
    "            NOTE: a group of seasons for a given team is considered a sample\n",
    "                Group 1994: 1990 to 1994\n",
    "                    Team1:\n",
    "                        feature: array of stats for N seasons (1990 to 1990+N-1)\n",
    "                        label: stats for season N+1\n",
    "                    Team2:\n",
    "                        feature: array of stats for N seasons (1990 to 1990+N-1)\n",
    "                        label: stats for season N+1\n",
    "                    ...\n",
    "\n",
    "                Group 1995: 1991 to 1995\n",
    "                    Team1\n",
    "                        feature: array of stats for N seasons (1991 to 1991+N-1)\n",
    "                        label: stats for season N+1\n",
    "                    ...\n",
    "            Then simply concatenate all the teams\n",
    "        \"\"\" \n",
    "\n",
    "\n",
    "        # Get all the teams names (10 seconds if full dataset)\n",
    "        team_names = list(set(df.loc[:, 'team name']))\n",
    "        #print(team_names)\n",
    "        #print(len(team_names))\n",
    "\n",
    "        # Create dictionary with each team as key and an array of all their stats as an entry\n",
    "        teams = {key: pd.DataFrame([row for idx,row in df.iterrows() if row['team name']==key]) for key in team_names}\n",
    "\n",
    "        #print(teams)\n",
    "        #print(len(teams))\n",
    "\n",
    "        # Create dataset \n",
    "        # A data element has features (array of N seasons of a team, where each row is a season) and target (stats for season N+1)\n",
    "        dataset = []\n",
    "\n",
    "        # For each team\n",
    "        for team in teams:\n",
    "            df = teams[team]\n",
    "\n",
    "            # Get groups of N seasons\n",
    "            for season in range(start_season, stop_season-N+2, 1):\n",
    "\n",
    "                # For the current group of seasons\n",
    "                features = []\n",
    "                for s in range(season, season+N):\n",
    "                    ss = df.loc[df['Season']==s]\n",
    "                    if ss.empty: # abort if inexistant season\n",
    "                        break\n",
    "\n",
    "                    features.append(ss)\n",
    "                \n",
    "                # Skip if not enough consecutive seasons (inexistant season)\n",
    "                if not len(features) == N:\n",
    "                    # TODO: season+=N for faster iterations?\n",
    "                    continue\n",
    "\n",
    "                # Add target\n",
    "                target = df.loc[df['Season']==season+N]\n",
    "                if target.empty: # abort if inexistant season\n",
    "                    continue\n",
    "\n",
    "                # Add data to dataset\n",
    "                dataset.append([features, target])\n",
    "\n",
    "        return dataset"
   ]
  },
  {
   "cell_type": "code",
   "execution_count": 6,
   "metadata": {},
   "outputs": [],
   "source": [
    "dataset = TeamDataset(df)"
   ]
  },
  {
   "cell_type": "code",
   "execution_count": 7,
   "metadata": {},
   "outputs": [
    {
     "name": "stdout",
     "output_type": "stream",
     "text": [
      "637\n",
      "([             team name   PTS%  GF/G  GA/G  Season\n",
      "15  New York Islanders  0.456  3.51   3.6    1990,              team name   PTS%  GF/G  GA/G  Season\n",
      "39  New York Islanders  0.375  2.79  3.63    1991,              team name   PTS%  GF/G  GA/G  Season\n",
      "55  New York Islanders  0.494  3.64  3.74    1992,              team name   PTS%  GF/G  GA/G  Season\n",
      "77  New York Islanders  0.518  3.99  3.54    1993,               team name  PTS%  GF/G  GA/G  Season\n",
      "102  New York Islanders   0.5  3.36  3.14    1994],               team name   PTS%  GF/G  GA/G  Season\n",
      "138  New York Islanders  0.365  2.63  3.29    1995)\n"
     ]
    }
   ],
   "source": [
    "dt = dataset.load_team_data(df, 1990, 2024, 5)\n",
    "print(dataset.__len__())\n",
    "print(dataset.__getitem__(0))\n",
    "#print(dt)"
   ]
  },
  {
   "cell_type": "markdown",
   "metadata": {},
   "source": [
    "# Dataloader Class\n",
    "\n",
    "Simply use the PyTorch dataloader class and pass the dataset."
   ]
  },
  {
   "cell_type": "code",
   "execution_count": 9,
   "metadata": {},
   "outputs": [
    {
     "name": "stdout",
     "output_type": "stream",
     "text": [
      "63\n",
      "574\n"
     ]
    }
   ],
   "source": [
    "from torch.utils.data import random_split\n",
    "from torch.nn.utils.rnn import pad_sequence\n",
    "\n",
    "batch_size = 100\n",
    "test_length = len(dataset)//10\n",
    "train_length = len(dataset) - test_length\n",
    "\n",
    "print(test_length)\n",
    "print(train_length)\n",
    "dataset_test, dataset_train = random_split(dataset, [test_length, train_length])\n",
    "\n",
    "\n",
    "\"\"\"\n",
    "From Tutorial 9\n",
    "Adapted to instead load a batch for a given N.\n",
    "For example, N=5 will load batches for teams which \n",
    "have 5 consecutive seasons played\n",
    "\"\"\"\n",
    "def generate_batch(data_batch):\n",
    "  \"\"\"\n",
    "  Pad samples in the batch to the longest sequence within that batch.\n",
    "\n",
    "  \"\"\"\n",
    "  content_batch, title_batch = [], []\n",
    "\n",
    "  for (content, title) in data_batch:\n",
    "    content_batch.append(torch.tensor(content))\n",
    "    title_batch.append(torch.tensor(title))\n",
    "\n",
    "  content_batch = pad_sequence(content_batch, padding_value=0, batch_first=True)\n",
    "  title_batch = pad_sequence(title_batch, padding_value=0, batch_first=True)\n",
    "\n",
    "  return content_batch, title_batch\n",
    "\n",
    "dataloader_train = DataLoader(dataset_train, batch_size=batch_size, shuffle=True, collate_fn=generate_batch) # collate_fn: call a fnc on a batch just before its output\n",
    "dataloader_test = DataLoader(dataset_test, batch_size=batch_size, shuffle=True, collate_fn=generate_batch)"
   ]
  }
 ],
 "metadata": {
  "kernelspec": {
   "display_name": "Python 3",
   "language": "python",
   "name": "python3"
  },
  "language_info": {
   "codemirror_mode": {
    "name": "ipython",
    "version": 3
   },
   "file_extension": ".py",
   "mimetype": "text/x-python",
   "name": "python",
   "nbconvert_exporter": "python",
   "pygments_lexer": "ipython3",
   "version": "3.10.0"
  }
 },
 "nbformat": 4,
 "nbformat_minor": 2
}
