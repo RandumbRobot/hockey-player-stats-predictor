{
 "cells": [
  {
   "cell_type": "markdown",
   "metadata": {},
   "source": [
    "# Team as an entity model\n",
    "\n",
    "This model is a"
   ]
  },
  {
   "cell_type": "code",
   "execution_count": 34,
   "metadata": {},
   "outputs": [],
   "source": [
    "# Import\n",
    "from torch import nn\n",
    "import torch.nn.functional as F\n",
    "from torch.utils.data import DataLoader, Dataset, random_split\n",
    "from team_dataloader import *"
   ]
  },
  {
   "cell_type": "markdown",
   "metadata": {},
   "source": [
    "# Model"
   ]
  },
  {
   "cell_type": "code",
   "execution_count": 35,
   "metadata": {},
   "outputs": [],
   "source": [
    "class TeamAsEntity(nn.Module):\n",
    "    def __init__(self, input_size, hidden_size, dropout=0):\n",
    "        super(TeamAsEntity, self).__init__()\n",
    "\n",
    "        self.input_size = input_size\n",
    "        self.hidden_size = hidden_size\n",
    "\n",
    "        # LSTM input\n",
    "        # Input size: size of each element in time series\n",
    "        # Hidden size: size of LSTM cell output and hidden output\n",
    "        # Num layers: number of stacked LSTM cells (vertical, not horizontal). Can also use multiple explicit LSTM layers\n",
    "        # (https://stackoverflow.com/questions/49224413/difference-between-1-lstm-with-num-layers-2-and-2-lstms-in-pytorch)\n",
    "        self.lstm = nn.LSTM(input_size=input_size, hidden_size=hidden_size, num_layers=1, batch_first=True, dropout=dropout)\n",
    "\n",
    "        # midpoint betweem LSTM and output layer\n",
    "        self.mid = nn.Sequential(\n",
    "            nn.Linear(hidden_size, 4*hidden_size),\n",
    "            nn.Tanh(),\n",
    "            nn.Linear(4*hidden_size, 4*input_size),\n",
    "            nn.Tanh()\n",
    "        )\n",
    "\n",
    "        # Output must be same size as input (predictions for all features)\n",
    "        self.out = nn.Linear(4*input_size, input_size)\n",
    "\n",
    "    def forward(self, input, hidden):\n",
    "        output, hidden = self.lstm(input, hidden)\n",
    "        output = self.mid(output)\n",
    "        output = self.out(output)\n",
    "        return output, hidden"
   ]
  },
  {
   "cell_type": "markdown",
   "metadata": {},
   "source": [
    "# Dataset"
   ]
  },
  {
   "cell_type": "code",
   "execution_count": 36,
   "metadata": {},
   "outputs": [],
   "source": [
    "# Data Paths\n",
    "file = './Data/team/processed/team_data.xlsx'\n",
    "\n",
    "# GET DESIRED FIELDS\n",
    "# Season \n",
    "# Name\n",
    "# Points Percentage : PTS%\n",
    "# Win Percentage : Win%\n",
    "# Goals For Per Game : GF/G\n",
    "# Goals Against Per Game : GA/G\n",
    "cols = ['team name', 'Season', 'PTS%', 'GF/G', 'GA/G']\n",
    "df = pd.read_excel(file, header=0, usecols=cols)\n",
    "\n",
    "# Remove the asterix from the team names\n",
    "df = df.replace('\\*', '', regex=True)\n",
    "\n",
    "dataset = TeamDataset(df, N=5, start_season=1990, stop_season=2023)"
   ]
  },
  {
   "cell_type": "markdown",
   "metadata": {},
   "source": [
    "# Dataloader"
   ]
  },
  {
   "cell_type": "code",
   "execution_count": 37,
   "metadata": {},
   "outputs": [
    {
     "name": "stdout",
     "output_type": "stream",
     "text": [
      "63\n",
      "574\n"
     ]
    }
   ],
   "source": [
    "batch_size = 100\n",
    "test_length = len(dataset)//10\n",
    "train_length = len(dataset) - test_length\n",
    "\n",
    "print(test_length)\n",
    "print(train_length)\n",
    "dataset_test, dataset_train = random_split(dataset, [test_length, train_length])\n",
    "\n",
    "\n",
    "# Must generate batches of sequence data with the following format:\n",
    "# (batch_size, num_seasons(N), input_size(num stats))\n",
    "# (https://stackoverflow.com/questions/49466894/how-to-correctly-give-inputs-to-embedding-lstm-and-linear-layers-in-pytorch/49473068#49473068)\n",
    "dataloader_train = DataLoader(dataset_train, batch_size=batch_size, shuffle=True)\n",
    "dataloader_test = DataLoader(dataset_test, batch_size=batch_size, shuffle=True)"
   ]
  },
  {
   "cell_type": "markdown",
   "metadata": {},
   "source": [
    "# Training"
   ]
  },
  {
   "cell_type": "code",
   "execution_count": 38,
   "metadata": {},
   "outputs": [],
   "source": [
    "# NOTE: N will be variable, as the input size\n",
    "hidden_size = 50\n",
    "model = TeamAsEntity(input_size=len(cols)-2, hidden_size= 50) "
   ]
  },
  {
   "cell_type": "code",
   "execution_count": 39,
   "metadata": {},
   "outputs": [],
   "source": [
    "criterion = torch.nn.MSELoss()\n",
    "optimizer = torch.optim.Adam(model.parameters(),lr=0.0001)\n",
    "epochs = 1500"
   ]
  },
  {
   "cell_type": "code",
   "execution_count": 44,
   "metadata": {},
   "outputs": [
    {
     "name": "stdout",
     "output_type": "stream",
     "text": [
      "0\n",
      "2\n",
      "1\n",
      "2\n",
      "2\n",
      "2\n",
      "3\n",
      "2\n",
      "4\n",
      "2\n",
      "5\n",
      "2\n"
     ]
    }
   ],
   "source": [
    "N=5 # TODO: change dataloader dynamically based on multiple N. Create a list of dataloader and mix-n-match the N accross batches\n",
    "\n",
    "#training loop\n",
    "# initialize the hidden state.\n",
    "hidden = (torch.randn(1, 1, 3),\n",
    "          torch.randn(1, 1, 3))\n",
    "#for i in range(epochs):\n",
    "for j,data in enumerate(dataloader_train):\n",
    "    print(j)\n",
    "    print(len(data[0]))\n",
    "    #print(data[0])\n",
    "    #print(data[:][0])\n",
    "    #print(data[:][0].view(-1,10,1))\n",
    "    #y_pred = model(data[:][0].view(-1,10,1), hidden).reshape(-1)\n",
    "    #loss = criterion(y_pred,data[:][1])\n",
    "    #loss.backward()\n",
    "    #optimizer.step()\n",
    "#if i%50 == 0:\n",
    "#    print(i,\"th iteration : \",loss)"
   ]
  },
  {
   "cell_type": "markdown",
   "metadata": {},
   "source": [
    "# Plot Results"
   ]
  },
  {
   "cell_type": "code",
   "execution_count": 41,
   "metadata": {},
   "outputs": [
    {
     "ename": "NameError",
     "evalue": "name 'logger' is not defined",
     "output_type": "error",
     "traceback": [
      "\u001b[1;31m---------------------------------------------------------------------------\u001b[0m",
      "\u001b[1;31mNameError\u001b[0m                                 Traceback (most recent call last)",
      "Cell \u001b[1;32mIn[41], line 2\u001b[0m\n\u001b[0;32m      1\u001b[0m \u001b[38;5;28;01mimport\u001b[39;00m \u001b[38;5;21;01mmatplotlib\u001b[39;00m\u001b[38;5;21;01m.\u001b[39;00m\u001b[38;5;21;01mpyplot\u001b[39;00m \u001b[38;5;28;01mas\u001b[39;00m \u001b[38;5;21;01mplt\u001b[39;00m\n\u001b[1;32m----> 2\u001b[0m plt\u001b[38;5;241m.\u001b[39mplot(\u001b[43mlogger\u001b[49m\u001b[38;5;241m.\u001b[39mmetrics[\u001b[38;5;124m'\u001b[39m\u001b[38;5;124mtraining_loss\u001b[39m\u001b[38;5;124m'\u001b[39m])\n\u001b[0;32m      3\u001b[0m plt\u001b[38;5;241m.\u001b[39mplot(logger\u001b[38;5;241m.\u001b[39mmetrics[\u001b[38;5;124m'\u001b[39m\u001b[38;5;124mval_loss\u001b[39m\u001b[38;5;124m'\u001b[39m], marker\u001b[38;5;241m=\u001b[39m\u001b[38;5;124m'\u001b[39m\u001b[38;5;124mo\u001b[39m\u001b[38;5;124m'\u001b[39m)\n",
      "\u001b[1;31mNameError\u001b[0m: name 'logger' is not defined"
     ]
    }
   ],
   "source": [
    "import matplotlib.pyplot as plt\n",
    "plt.plot(logger.metrics['training_loss'])\n",
    "plt.plot(logger.metrics['val_loss'], marker='o')"
   ]
  }
 ],
 "metadata": {
  "kernelspec": {
   "display_name": "Python 3",
   "language": "python",
   "name": "python3"
  },
  "language_info": {
   "codemirror_mode": {
    "name": "ipython",
    "version": 3
   },
   "file_extension": ".py",
   "mimetype": "text/x-python",
   "name": "python",
   "nbconvert_exporter": "python",
   "pygments_lexer": "ipython3",
   "version": "3.10.0"
  }
 },
 "nbformat": 4,
 "nbformat_minor": 2
}
